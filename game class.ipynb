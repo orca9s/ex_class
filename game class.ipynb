{
 "cells": [
  {
   "cell_type": "code",
   "execution_count": 10,
   "metadata": {},
   "outputs": [],
   "source": [
    "class Game:\n",
    "    game_type_list = ['FPS', 'RPG', 'AOS']\n",
    "    \n",
    "    def __init__(self, name, game_type, company):\n",
    "        self.name = name\n",
    "        self.__game_type = game_type\n",
    "        self.company = company\n",
    "        \n",
    "    def show_info(self):\n",
    "        print(\n",
    "            f'게임정보: {self.name}\\n'\n",
    "            f'유형 : {self.__game_type}\\n'\n",
    "            f'운영사 : {self.company}'\n",
    "        )\n",
    "        \n",
    "    @property\n",
    "    def game_type(self):\n",
    "        return self.__game_type\n",
    "    \n",
    "    \n",
    "    @game_type.setter\n",
    "    def game_type(self, new_game_type):\n",
    "        if new_game_type in self.game_type_list:\n",
    "            self.__game_type = new_game_type\n",
    "        else:\n",
    "            print('게임 유형은 {}중 하나여야 합니다.'.format(','.join(self.game_type_list),))\n",
    "    "
   ]
  },
  {
   "cell_type": "code",
   "execution_count": 12,
   "metadata": {},
   "outputs": [
    {
     "data": {
      "text/plain": [
       "'FPS'"
      ]
     },
     "execution_count": 12,
     "metadata": {},
     "output_type": "execute_result"
    }
   ],
   "source": [
    "suddenattak = Game('서든어택', 'FPS', '넥슨')\n",
    "suddenattak.game_type"
   ]
  },
  {
   "cell_type": "code",
   "execution_count": 14,
   "metadata": {},
   "outputs": [
    {
     "name": "stdout",
     "output_type": "stream",
     "text": [
      "게임 유형은 FPS,RPG,AOS중 하나여야 합니다.\n",
      "게임정보: 서든어택\n",
      "유형 : FPS\n",
      "운영사 : 넥슨\n"
     ]
    }
   ],
   "source": [
    "suddenattak.game_type = 'mmorpg'\n",
    "suddenattak.show_info()"
   ]
  },
  {
   "cell_type": "code",
   "execution_count": 33,
   "metadata": {},
   "outputs": [],
   "source": [
    "class Game:\n",
    "    GAME_TYPE_LIST = ['FPS', 'RPG', 'AOS', 'MMORPG']\n",
    "    \n",
    "    def __init__(self, name, game_type, game_company):\n",
    "        self.name = name\n",
    "        self.__game_type = game_type\n",
    "        self.game_company = game_company\n",
    "    \n",
    "    def show_info(self):\n",
    "        print(\n",
    "            f'게임정보: {self.name}\\n'\n",
    "            f'게임유형: {self.__game_type}\\n'\n",
    "            f'게임회사: {self.game_company}'\n",
    "        )\n",
    "        \n",
    "    @property\n",
    "    def game_type(self):\n",
    "        return self.__game_type\n",
    "    \n",
    "    @game_type.setter\n",
    "    def game_type(self, new_game_type):\n",
    "        if new_game_type in self.GAME_TYPE_LIST:\n",
    "            self.__game_type =  new_game_type\n",
    "        else:\n",
    "            print('게임 유형은 {}중 하나여야 합니다.'.format(','.join(self.GAME_TYPE_LIST)))"
   ]
  },
  {
   "cell_type": "code",
   "execution_count": 38,
   "metadata": {},
   "outputs": [
    {
     "data": {
      "text/plain": [
       "'MMORPG'"
      ]
     },
     "execution_count": 38,
     "metadata": {},
     "output_type": "execute_result"
    }
   ],
   "source": [
    "AION = Game('아이온', 'MMORPG', 'nc소프트')\n",
    "AION.game_type"
   ]
  },
  {
   "cell_type": "code",
   "execution_count": 36,
   "metadata": {},
   "outputs": [
    {
     "name": "stdout",
     "output_type": "stream",
     "text": [
      "게임 유형은 FPS,RPG,AOS,MMORPG중 하나여야 합니다.\n"
     ]
    }
   ],
   "source": [
    "AION.game_type = 'cos'"
   ]
  },
  {
   "cell_type": "code",
   "execution_count": 40,
   "metadata": {},
   "outputs": [
    {
     "name": "stdout",
     "output_type": "stream",
     "text": [
      "게임정보: 아이온\n",
      "게임유형: FPS\n",
      "게임회사: nc소프트\n"
     ]
    }
   ],
   "source": [
    "AION.game_type = 'FPS'\n",
    "AION.show_info()\n"
   ]
  },
  {
   "cell_type": "code",
   "execution_count": null,
   "metadata": {
    "collapsed": true
   },
   "outputs": [],
   "source": []
  }
 ],
 "metadata": {
  "kernelspec": {
   "display_name": "Python 3",
   "language": "python",
   "name": "python3"
  },
  "language_info": {
   "codemirror_mode": {
    "name": "ipython",
    "version": 3
   },
   "file_extension": ".py",
   "mimetype": "text/x-python",
   "name": "python",
   "nbconvert_exporter": "python",
   "pygments_lexer": "ipython3",
   "version": "3.6.5"
  }
 },
 "nbformat": 4,
 "nbformat_minor": 2
}
