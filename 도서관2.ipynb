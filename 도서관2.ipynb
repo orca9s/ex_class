{
 "cells": [
  {
   "cell_type": "code",
   "execution_count": 1,
   "metadata": {},
   "outputs": [],
   "source": [
    "class Library:\n",
    "    def __init__(self, name, book_list):\n",
    "        self.name = name\n",
    "        self.book_list = book_list\n",
    "        \n",
    "    def __repr__(self):\n",
    "        return f'({self.name}) [{id:(self)}]'\n",
    "    \n",
    "    def __str__(self):\n",
    "        return self.name\n",
    "        \n",
    "    def add_book(self, book_title):\n",
    "        for book in self.book_list:\n",
    "            if book.title == book_title:\n",
    "                print('이미 소장중인 도서입니다.')\n",
    "                break\n",
    "        else:\n",
    "            self.book_list.append(Book(book_title, self))\n",
    "            print(f'{book_title}이 소장 도서에 추가 되었습니다.')\n",
    "            print(self.book_list)\n",
    "    \n",
    "    def remove_book(self, book_title):\n",
    "        for book in self.book_title:\n",
    "            if book.title == book_title:\n",
    "                self.book_list.remove(book)\n",
    "                print(f'책 {book_title}이 소장 도서에서 삭제 되었습니다.')\n",
    "                break\n",
    "        else:\n",
    "            print('소장중인 도서가 아닙니다.')\n",
    "    @property\n",
    "    def info(self):\n",
    "        print('{info_title}\\n{book_list}\\n{total}'.format(\n",
    "            info_title=f'{self.name} 도서목록',\n",
    "            book_list='\\n'.join([f'{index}. {book.title}'for index, book in enumerate(self.book_list, start=1)]),\n",
    "            total=f'총 {len(self.book_list)}권 소장 중',\n",
    "        ))"
   ]
  },
  {
   "cell_type": "code",
   "execution_count": 2,
   "metadata": {},
   "outputs": [],
   "source": [
    "class Book:\n",
    "    book_list = []\n",
    "    def __init__(self, title, location):\n",
    "        self.title = title\n",
    "        self.location = location\n",
    "        self.book_list.append(self)\n",
    "        \n",
    "    def __repr__(self):\n",
    "        return f'({self.title}) [{id(self)}]'\n",
    "    \n",
    "    def __str__(self):\n",
    "        return self.title\n",
    "    @classmethod\n",
    "    def show_total_book_info(cls):\n",
    "        print('도서목록 \\n{book_list}\\n{total}'.format(\n",
    "            book_list= '\\n'.join(['{index}.{title} ({location}) [{status}]'.format(\n",
    "            index = index,\n",
    "            title = book.title,\n",
    "            location = book.location,\n",
    "            status = '대출중' if book.is_borrowed else '대출가능',\n",
    "            )for index, book in enumerate(cls.book_list, start=1)]),\n",
    "            total=f'총 {len(cls.book_list)}권',\n",
    "        ))\n",
    "    @property\n",
    "    def is_borrowed(self):\n",
    "        if isinstance(self.location, User):\n",
    "            return True\n",
    "        else:\n",
    "            return False"
   ]
  },
  {
   "cell_type": "code",
   "execution_count": 3,
   "metadata": {},
   "outputs": [],
   "source": [
    "class User:\n",
    "    def __init__(self, name, book_list=None):\n",
    "        self.name = name\n",
    "        # book_list에 추가가 될 경우와 아닐경우 빈 리스트\n",
    "        self.book_list = book_list if book_list else[]\n",
    "        \n",
    "    def __repr__(self):\n",
    "        return f'Book ({self.name}) [{id:(self)}]'\n",
    "    \n",
    "    def __str__(self):\n",
    "        return self.name\n",
    "    \n",
    "    def borrow_book(self, library, book_title):\n",
    "        for index,book in enumerate(library.book_list):\n",
    "            if book.title == book_title:\n",
    "                self.book_list.append(book)\n",
    "                library.book_list.remove(book)\n",
    "                book.location = self\n",
    "                print(f'책({book.title})을 ({library.name}))으로부터 빌려옴')\n",
    "                break\n",
    "        else:\n",
    "            print(f'해당 도서가 {library.name}에 없습니다')\n",
    "    \n",
    "    def return_book(self, library, book_title):\n",
    "        for book in self.book_list:\n",
    "            if book.title == book_title:\n",
    "                self.book_list.remove(book)\n",
    "                library.book_list.append(book)\n",
    "                book.location = library\n",
    "                print(f'책 ({book.title})을 ({library.name})으로 반납합니다')\n",
    "                break\n",
    "        else:\n",
    "            print(f'해당 도서를 가지고 있지 않습니다')\n",
    "            "
   ]
  },
  {
   "cell_type": "code",
   "execution_count": 4,
   "metadata": {},
   "outputs": [],
   "source": [
    "library1 = Library('강남도서관', [])"
   ]
  },
  {
   "cell_type": "code",
   "execution_count": 5,
   "metadata": {},
   "outputs": [],
   "source": [
    "library2 = Library('성수도서관', [])"
   ]
  },
  {
   "cell_type": "code",
   "execution_count": 6,
   "metadata": {},
   "outputs": [
    {
     "name": "stdout",
     "output_type": "stream",
     "text": [
      "처음 시작하는 파이썬이 소장 도서에 추가 되었습니다.\n",
      "[(처음 시작하는 파이썬) [4598479952]]\n"
     ]
    },
    {
     "data": {
      "text/plain": [
       "[(처음 시작하는 파이썬) [4598479952]]"
      ]
     },
     "execution_count": 6,
     "metadata": {},
     "output_type": "execute_result"
    }
   ],
   "source": [
    "library1.add_book('처음 시작하는 파이썬')\n",
    "library1.book_list"
   ]
  },
  {
   "cell_type": "code",
   "execution_count": 7,
   "metadata": {},
   "outputs": [
    {
     "name": "stdout",
     "output_type": "stream",
     "text": [
      "전문가를 위한 파이썬이 소장 도서에 추가 되었습니다.\n",
      "[(처음 시작하는 파이썬) [4598479952], (전문가를 위한 파이썬) [4598478216]]\n"
     ]
    }
   ],
   "source": [
    "library1.add_book('전문가를 위한 파이썬')"
   ]
  },
  {
   "cell_type": "code",
   "execution_count": 8,
   "metadata": {},
   "outputs": [
    {
     "name": "stdout",
     "output_type": "stream",
     "text": [
      "골든 타임이 소장 도서에 추가 되었습니다.\n",
      "[(골든 타임) [4598404712]]\n"
     ]
    }
   ],
   "source": [
    "library2.add_book('골든 타임')"
   ]
  },
  {
   "cell_type": "code",
   "execution_count": 9,
   "metadata": {},
   "outputs": [],
   "source": [
    "user1 = User('전상민')"
   ]
  },
  {
   "cell_type": "code",
   "execution_count": 10,
   "metadata": {},
   "outputs": [
    {
     "name": "stdout",
     "output_type": "stream",
     "text": [
      "책(처음 시작하는 파이썬)을 (강남도서관))으로부터 빌려옴\n"
     ]
    }
   ],
   "source": [
    "user1.borrow_book(library1, '처음 시작하는 파이썬')"
   ]
  },
  {
   "cell_type": "code",
   "execution_count": 11,
   "metadata": {},
   "outputs": [
    {
     "name": "stdout",
     "output_type": "stream",
     "text": [
      "책 (처음 시작하는 파이썬)을 (강남도서관)으로 반납합니다\n"
     ]
    }
   ],
   "source": [
    "user1.return_book(library1, '처음 시작하는 파이썬')"
   ]
  },
  {
   "cell_type": "code",
   "execution_count": 12,
   "metadata": {},
   "outputs": [
    {
     "name": "stdout",
     "output_type": "stream",
     "text": [
      "책(골든 타임)을 (성수도서관))으로부터 빌려옴\n"
     ]
    }
   ],
   "source": [
    "user1.borrow_book(library2, '골든 타임')"
   ]
  },
  {
   "cell_type": "code",
   "execution_count": 13,
   "metadata": {},
   "outputs": [
    {
     "name": "stdout",
     "output_type": "stream",
     "text": [
      "도서목록 \n",
      "1.처음 시작하는 파이썬 (강남도서관) [대출가능]\n",
      "2.전문가를 위한 파이썬 (강남도서관) [대출가능]\n",
      "3.골든 타임 (전상민) [대출중]\n",
      "총 3권\n"
     ]
    }
   ],
   "source": [
    "Book.show_total_book_info()"
   ]
  },
  {
   "cell_type": "code",
   "execution_count": 14,
   "metadata": {},
   "outputs": [
    {
     "name": "stdout",
     "output_type": "stream",
     "text": [
      "강남도서관 도서목록\n",
      "1. 전문가를 위한 파이썬\n",
      "2. 처음 시작하는 파이썬\n",
      "총 2권 소장 중\n"
     ]
    }
   ],
   "source": [
    "library1.info"
   ]
  },
  {
   "cell_type": "code",
   "execution_count": 15,
   "metadata": {},
   "outputs": [
    {
     "name": "stdout",
     "output_type": "stream",
     "text": [
      "성수도서관 도서목록\n",
      "\n",
      "총 0권 소장 중\n"
     ]
    }
   ],
   "source": [
    "library2.info"
   ]
  },
  {
   "cell_type": "code",
   "execution_count": 16,
   "metadata": {},
   "outputs": [
    {
     "name": "stdout",
     "output_type": "stream",
     "text": [
      "책 (골든 타임)을 (성수도서관)으로 반납합니다\n"
     ]
    }
   ],
   "source": [
    "user1.return_book(library2, '골든 타임')"
   ]
  },
  {
   "cell_type": "code",
   "execution_count": 17,
   "metadata": {},
   "outputs": [
    {
     "name": "stdout",
     "output_type": "stream",
     "text": [
      "성수도서관 도서목록\n",
      "1. 골든 타임\n",
      "총 1권 소장 중\n"
     ]
    }
   ],
   "source": [
    "library2.info"
   ]
  },
  {
   "cell_type": "code",
   "execution_count": null,
   "metadata": {},
   "outputs": [],
   "source": []
  }
 ],
 "metadata": {
  "kernelspec": {
   "display_name": "Python 3",
   "language": "python",
   "name": "python3"
  },
  "language_info": {
   "codemirror_mode": {
    "name": "ipython",
    "version": 3
   },
   "file_extension": ".py",
   "mimetype": "text/x-python",
   "name": "python",
   "nbconvert_exporter": "python",
   "pygments_lexer": "ipython3",
   "version": "3.6.5"
  }
 },
 "nbformat": 4,
 "nbformat_minor": 2
}
