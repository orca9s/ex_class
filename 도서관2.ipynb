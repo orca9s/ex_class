{
 "cells": [
  {
   "cell_type": "code",
   "execution_count": 4,
   "metadata": {},
   "outputs": [],
   "source": [
    "class Library:\n",
    "    def __init__(self, name, book_list):\n",
    "        self.name = name\n",
    "        self.book_list = self.book_list\n",
    "        \n",
    "    def __repr__(self):\n",
    "        return f'({self.name}) [{id:(self)}]'\n",
    "    \n",
    "    def __str__(self):\n",
    "        return self.name\n",
    "        \n",
    "    def add_book(self, book_title):\n",
    "        for book in self.book_list:\n",
    "            if book.title == book_title:\n",
    "                print('이미 소장중인 도서입니다.')\n",
    "                break\n",
    "        else:\n",
    "            self.book_list.append(Book(book_title, self))\n",
    "            print(f'{book_title}이 소장 도서에 추가 되었습니다.')\n",
    "            print(self.book_list)\n",
    "    \n",
    "    def remove_book(self, book_title):\n",
    "        for book in self.book_title:\n",
    "            if book.title == book_title:\n",
    "                self.book_list.remove(book)\n",
    "                print(f'책 {book_title}이 소장 도서에서 삭제 되었습니다.')\n",
    "                break\n",
    "        else:\n",
    "            print('소장중인 도서가 아닙니다.')\n",
    "    \n",
    "    def info(self):\n",
    "        pass"
   ]
  },
  {
   "cell_type": "code",
   "execution_count": 2,
   "metadata": {},
   "outputs": [],
   "source": [
    "class Book:\n",
    "    book_list = []\n",
    "    def __init__(self, book_title, location):\n",
    "        self.book_title = book_title\n",
    "        \n",
    "    def __repr__(self):\n",
    "        return f'({self.book_title}) [{id(self)}]'\n",
    "    \n",
    "    def __str__(self):\n",
    "        return self.book_title\n",
    "        \n",
    "    def show_total_book_info(cls):\n",
    "        pass\n",
    "    \n",
    "    \n",
    "    def is_borrowed(self):\n",
    "        pass"
   ]
  },
  {
   "cell_type": "code",
   "execution_count": 3,
   "metadata": {},
   "outputs": [],
   "source": [
    "class User:\n",
    "    def __init__(self, name, book_list=None):\n",
    "        self.name = name\n",
    "        self.book_list = book_list\n",
    "        \n",
    "    def __repr__(self):\n",
    "        return f'Book ({self.name}) [{id:(self)}]'\n",
    "    \n",
    "    def __str__(self):\n",
    "        return self.name\n",
    "    \n",
    "    def borrow_book(self, library, book_title):\n",
    "        pass\n",
    "    \n",
    "    def remove_book(self, library, book_title):\n",
    "        pass"
   ]
  },
  {
   "cell_type": "code",
   "execution_count": null,
   "metadata": {},
   "outputs": [],
   "source": []
  },
  {
   "cell_type": "code",
   "execution_count": null,
   "metadata": {},
   "outputs": [],
   "source": []
  }
 ],
 "metadata": {
  "kernelspec": {
   "display_name": "Python 3",
   "language": "python",
   "name": "python3"
  },
  "language_info": {
   "codemirror_mode": {
    "name": "ipython",
    "version": 3
   },
   "file_extension": ".py",
   "mimetype": "text/x-python",
   "name": "python",
   "nbconvert_exporter": "python",
   "pygments_lexer": "ipython3",
   "version": "3.6.5"
  }
 },
 "nbformat": 4,
 "nbformat_minor": 2
}
