{
 "cells": [
  {
   "cell_type": "code",
   "execution_count": 1,
   "metadata": {},
   "outputs": [],
   "source": [
    "class Shop:\n",
    "    description = \"Python Shop Class\"\n",
    "    count = 0\n",
    "    shop_list = []\n",
    "    # 인스턴스 메서드\n",
    "    # 첫 번째 매개변수로 항상 인스턴스 자신이 전달된다.\n",
    "    \n",
    "    def __init__(self, name):\n",
    "        self.name = name\n",
    "        Shop.count += 1\n",
    "        # shop리스트 목록을 보고싶으면 shop리스트를 만들어서 append(self)를 만들어준다.\n",
    "#         Shop.shop_list.append(self)\n",
    "        self.__class__.shop_list.append(self)\n",
    "        \n",
    "    def __repr__(self):\n",
    "        return f'상점({self.name})'\n",
    "    \n",
    "    def show_info(self):\n",
    "        return f'상점정보({self.name})'\n",
    "    \n",
    "    # 클래스 메서드\n",
    "    # 첫 번째 매개변수로 항상 클래스 정의 자체가 전달된다\n",
    "    # 클래스 정의가 전달되는 첫 번째 매개변수의 이름은 관용적으로 'cls'를 사용\n",
    "    @classmethod\n",
    "    def get_shop_count(cls):\n",
    "        return cls.count\n",
    "    \n",
    "    @classmethod\n",
    "    def get_last_created_shop(cls):\n",
    "        return cls.shop_list[-1]"
   ]
  },
  {
   "cell_type": "code",
   "execution_count": 2,
   "metadata": {},
   "outputs": [],
   "source": [
    "# 클래스명을 호출()하는 것은 클래스 생성자 메서드를 실행한다는 의미\n",
    "# 클래스 생성자 메서드는 매직 메서드 __init__에 정의된다\n",
    "# 클래스 생성자의 호출 결과는 해당 클래스의 인스턴스\n",
    "# 인스턴스는 특정 클래스형(타입)의 객체를 말함"
   ]
  },
  {
   "cell_type": "code",
   "execution_count": 3,
   "metadata": {},
   "outputs": [],
   "source": [
    "subway = Shop('서브웨이')\n",
    "lotteria = Shop('롯데리아')"
   ]
  },
  {
   "cell_type": "code",
   "execution_count": 4,
   "metadata": {},
   "outputs": [
    {
     "data": {
      "text/plain": [
       "<bound method Shop.show_info of 상점(서브웨이)>"
      ]
     },
     "execution_count": 4,
     "metadata": {},
     "output_type": "execute_result"
    }
   ],
   "source": [
    "subway.show_info"
   ]
  },
  {
   "cell_type": "code",
   "execution_count": 5,
   "metadata": {},
   "outputs": [
    {
     "data": {
      "text/plain": [
       "상점(롯데리아)"
      ]
     },
     "execution_count": 5,
     "metadata": {},
     "output_type": "execute_result"
    }
   ],
   "source": [
    "lotteria"
   ]
  },
  {
   "cell_type": "code",
   "execution_count": 6,
   "metadata": {},
   "outputs": [
    {
     "data": {
      "text/plain": [
       "'Python Shop Class'"
      ]
     },
     "execution_count": 6,
     "metadata": {},
     "output_type": "execute_result"
    }
   ],
   "source": [
    "subway.description"
   ]
  },
  {
   "cell_type": "code",
   "execution_count": 7,
   "metadata": {},
   "outputs": [
    {
     "data": {
      "text/plain": [
       "'adadada'"
      ]
     },
     "execution_count": 7,
     "metadata": {},
     "output_type": "execute_result"
    }
   ],
   "source": [
    "subway.description = 'adadada'\n",
    "subway.description"
   ]
  },
  {
   "cell_type": "code",
   "execution_count": 8,
   "metadata": {},
   "outputs": [
    {
     "data": {
      "text/plain": [
       "'Python Shop Class'"
      ]
     },
     "execution_count": 8,
     "metadata": {},
     "output_type": "execute_result"
    }
   ],
   "source": [
    "Shop.description"
   ]
  },
  {
   "cell_type": "code",
   "execution_count": 9,
   "metadata": {},
   "outputs": [],
   "source": [
    "Shop.description = 'SSSSSHHHHOOOOPPPPP'"
   ]
  },
  {
   "cell_type": "code",
   "execution_count": 10,
   "metadata": {},
   "outputs": [
    {
     "data": {
      "text/plain": [
       "'adadada'"
      ]
     },
     "execution_count": 10,
     "metadata": {},
     "output_type": "execute_result"
    }
   ],
   "source": [
    "subway.description"
   ]
  },
  {
   "cell_type": "code",
   "execution_count": 11,
   "metadata": {},
   "outputs": [],
   "source": [
    "# 서브웨이에서 description을 수정했는데 서브웨이만 바뀌고 shop은\n",
    "# 안바뀌는 이유는 클래스는 속성에 직접 접근해서 바꿔주어야 하고\n",
    "# 인스턴스 속성을 정의해 놓으면 인스턴스 속성이 우선시 해서 출력된다"
   ]
  },
  {
   "cell_type": "code",
   "execution_count": 12,
   "metadata": {},
   "outputs": [
    {
     "data": {
      "text/plain": [
       "2"
      ]
     },
     "execution_count": 12,
     "metadata": {},
     "output_type": "execute_result"
    }
   ],
   "source": [
    "Shop.get_shop_count()"
   ]
  },
  {
   "cell_type": "code",
   "execution_count": 13,
   "metadata": {},
   "outputs": [
    {
     "data": {
      "text/plain": [
       "2"
      ]
     },
     "execution_count": 13,
     "metadata": {},
     "output_type": "execute_result"
    }
   ],
   "source": [
    "subway.get_shop_count()"
   ]
  },
  {
   "cell_type": "code",
   "execution_count": 14,
   "metadata": {},
   "outputs": [
    {
     "data": {
      "text/plain": [
       "2"
      ]
     },
     "execution_count": 14,
     "metadata": {},
     "output_type": "execute_result"
    }
   ],
   "source": [
    "lotteria.get_shop_count()"
   ]
  },
  {
   "cell_type": "code",
   "execution_count": 15,
   "metadata": {},
   "outputs": [
    {
     "data": {
      "text/plain": [
       "상점(롯데리아)"
      ]
     },
     "execution_count": 15,
     "metadata": {},
     "output_type": "execute_result"
    }
   ],
   "source": [
    "Shop.get_last_created_shop()"
   ]
  },
  {
   "cell_type": "code",
   "execution_count": 16,
   "metadata": {},
   "outputs": [],
   "source": [
    "class Shop:\n",
    "    def __init__(self, name, shop_type, address):\n",
    "        self.name = name\n",
    "        # self.__shop.type은 인스턴스의 속성명\n",
    "        # 우측의 shop.type은 초기화 메서드의 매개변수명\n",
    "        self.__shop_type = shop_type\n",
    "        self.address = address\n",
    "        \n",
    "    def show_info(self):\n",
    "        print(\n",
    "            f'상점정보 ({self.name})\\n'\n",
    "            f'유형: {self.__shop_type}\\n'\n",
    "            f'주소: {self.address}'\n",
    "        )\n",
    "        \n",
    "    def change_type(self, new_shop_type):\n",
    "        self.__shop_type = new_shop_type"
   ]
  },
  {
   "cell_type": "code",
   "execution_count": 17,
   "metadata": {},
   "outputs": [],
   "source": [
    "subway = Shop('서브웨이', '샌드위치가게', '성수역 옆에')"
   ]
  },
  {
   "cell_type": "code",
   "execution_count": 18,
   "metadata": {},
   "outputs": [
    {
     "ename": "AttributeError",
     "evalue": "'Shop' object has no attribute 'shop_type'",
     "output_type": "error",
     "traceback": [
      "\u001b[0;31m---------------------------------------------------------------------------\u001b[0m",
      "\u001b[0;31mAttributeError\u001b[0m                            Traceback (most recent call last)",
      "\u001b[0;32m<ipython-input-18-5f57a4281186>\u001b[0m in \u001b[0;36m<module>\u001b[0;34m\u001b[0m\n\u001b[0;32m----> 1\u001b[0;31m \u001b[0msubway\u001b[0m\u001b[0;34m.\u001b[0m\u001b[0mshop_type\u001b[0m\u001b[0;34m\u001b[0m\u001b[0m\n\u001b[0m",
      "\u001b[0;31mAttributeError\u001b[0m: 'Shop' object has no attribute 'shop_type'"
     ]
    }
   ],
   "source": [
    "subway.shop_type"
   ]
  },
  {
   "cell_type": "code",
   "execution_count": null,
   "metadata": {},
   "outputs": [],
   "source": [
    "subway.show_info()"
   ]
  },
  {
   "cell_type": "code",
   "execution_count": null,
   "metadata": {},
   "outputs": [],
   "source": [
    "subway.change_type('패스트푸드')\n",
    "subway.show_info()"
   ]
  },
  {
   "cell_type": "code",
   "execution_count": null,
   "metadata": {},
   "outputs": [],
   "source": [
    "subway._Shop__shop_type"
   ]
  },
  {
   "cell_type": "code",
   "execution_count": null,
   "metadata": {},
   "outputs": [],
   "source": [
    "subway._Shop__shop_type = '이렇게 바꿀 수 있음'"
   ]
  },
  {
   "cell_type": "code",
   "execution_count": null,
   "metadata": {},
   "outputs": [],
   "source": [
    "subway.show_info()"
   ]
  },
  {
   "cell_type": "code",
   "execution_count": 26,
   "metadata": {},
   "outputs": [],
   "source": [
    "class Shop:\n",
    "    # 클래스 속성은 대문자로 쓰기도 한다. 인스턴스 속성과 구분이 쉽다.\n",
    "    # 대문자에는 인스턴스 속성은 추천하지 않는다.\n",
    "    SHOP_TYPE_LIST = ['샌드위치', '패스트푸드']\n",
    "    \n",
    "    def __init__(self, name, shop_type, address):\n",
    "        self.name = name\n",
    "        # self.__shop.type은 인스턴스의 속성명\n",
    "        # 우측의 shop.type은 초기화 메서드의 매개변수명\n",
    "        self.__shop_type = shop_type\n",
    "        self.address = address\n",
    "        \n",
    "    def show_info(self):\n",
    "        print(\n",
    "            f'상점정보 ({self.name})\\n'\n",
    "            f'유형: {self.__shop_type}\\n'\n",
    "            f'주소: {self.address}'\n",
    "        )\n",
    "        \n",
    "    # 특정 private속성에 대해 getter함수만 존재할 경우\n",
    "    # 해당 속성이 '읽기전용'이 됨\n",
    "    \n",
    "    def get_shop_type(self):\n",
    "        return self.__shop_type\n",
    "    \n",
    "    # setter함수\n",
    "    def set_shop_type(self, new_shop_type): \n",
    "        if new_shop_type in self.SHOP_TYPE_LIST:\n",
    "            self.__shop_type = new_shop_type\n",
    "        else:\n",
    "            print('상점 유형은 {}중 하나여야 합니다.'.format(\n",
    "                ','.join(self.SHOP_TYPE_LIST),\n",
    "            ))"
   ]
  },
  {
   "cell_type": "code",
   "execution_count": 27,
   "metadata": {},
   "outputs": [
    {
     "data": {
      "text/plain": [
       "'샌드위치'"
      ]
     },
     "execution_count": 27,
     "metadata": {},
     "output_type": "execute_result"
    }
   ],
   "source": [
    "subway = Shop('서브웨이', '샌드위치', '성수역')\n",
    "subway.get_shop_type()"
   ]
  },
  {
   "cell_type": "code",
   "execution_count": 28,
   "metadata": {},
   "outputs": [
    {
     "data": {
      "text/plain": [
       "'패스트푸드'"
      ]
     },
     "execution_count": 28,
     "metadata": {},
     "output_type": "execute_result"
    }
   ],
   "source": [
    "subway.set_shop_type('패스트푸드')\n",
    "subway.get_shop_type()"
   ]
  },
  {
   "cell_type": "code",
   "execution_count": 30,
   "metadata": {},
   "outputs": [
    {
     "name": "stdout",
     "output_type": "stream",
     "text": [
      "상점 유형은 샌드위치,패스트푸드중 하나여야 합니다.\n"
     ]
    },
    {
     "data": {
      "text/plain": [
       "'패스트푸드'"
      ]
     },
     "execution_count": 30,
     "metadata": {},
     "output_type": "execute_result"
    }
   ],
   "source": [
    "subway.set_shop_type('pc방')\n",
    "subway.get_shop_type()"
   ]
  },
  {
   "cell_type": "markdown",
   "metadata": {},
   "source": [
    "프로그래밍 언어에서 getter와 setter가 존재하는 이유는\n",
    "함수를 실행하면서 다른 제약을 걸 수 있다. 예를 들어 상점 정보에 \n",
    "미리 지정해놓은 업종만 등록 할 수 있는것과 같다."
   ]
  },
  {
   "cell_type": "markdown",
   "metadata": {},
   "source": [
    "## 프로퍼티"
   ]
  },
  {
   "cell_type": "code",
   "execution_count": 38,
   "metadata": {},
   "outputs": [],
   "source": [
    "class Shop:\n",
    "    # 클래스 속성은 대문자로 쓰기도 한다. 인스턴스 속성과 구분이 쉽다.\n",
    "    # 대문자에는 인스턴스 속성은 추천하지 않는다.\n",
    "    SHOP_TYPE_LIST = ['샌드위치', '패스트푸드']\n",
    "    \n",
    "    def __init__(self, name, shop_type, address):\n",
    "        self.name = name\n",
    "        # self.__shop.type은 인스턴스의 속성명\n",
    "        # 우측의 shop.type은 초기화 메서드의 매개변수명\n",
    "        self.__shop_type = shop_type\n",
    "        self.address = address\n",
    "        \n",
    "    def show_info(self):\n",
    "        print(\n",
    "            f'상점정보 ({self.name})\\n'\n",
    "            f'유형: {self.__shop_type}\\n'\n",
    "            f'주소: {self.address}'\n",
    "        )\n",
    "        \n",
    "    # 특정 private속성에 대해 getter함수만 존재할 경우\n",
    "    # 해당 속성이 '읽기전용'이 됨\n",
    "    \n",
    "#     def get_shop_type(self):\n",
    "#         return self.__shop_type\n",
    "    \n",
    "#     # setter함수\n",
    "#     def set_shop_type(self, new_shop_type): \n",
    "#         if new_shop_type in self.SHOP_TYPE_LIST:\n",
    "#             self.__shop_type = new_shop_type\n",
    "#         else:\n",
    "#             print('상점 유형은 {}중 하나여야 합니다.'.format(\n",
    "#                 ','.join(self.SHOP_TYPE_LIST),\n",
    "#             ))\n",
    "            \n",
    "    # getter 역할을 하는 property decorator\n",
    "    @property\n",
    "    ## 프로퍼티는 특정 함수를 속성처럼 접근할 수 있게 해준다.\n",
    "    def shop_type(self):\n",
    "        return self.__shop_type\n",
    "    \n",
    "    # setter역할을 하는 property decorator\n",
    "    # <getter property method name> setter\n",
    "    @shop_type.setter\n",
    "    def shop_type(self, new_shop_type):\n",
    "        if new_shop_type in self.SHOP_TYPE_LIST:\n",
    "            self.__shop_type = new_shop_type\n",
    "        else:\n",
    "            print('상점 유형은 {}중 하나여야 합니다.'.format(\n",
    "                ','.join(self.SHOP_TYPE_LIST),\n",
    "            ))"
   ]
  },
  {
   "cell_type": "code",
   "execution_count": 39,
   "metadata": {},
   "outputs": [
    {
     "data": {
      "text/plain": [
       "'샌드위치'"
      ]
     },
     "execution_count": 39,
     "metadata": {},
     "output_type": "execute_result"
    }
   ],
   "source": [
    "subway = Shop('서브웨이', '샌드위치', '성수역')\n",
    "subway.shop_type"
   ]
  },
  {
   "cell_type": "code",
   "execution_count": 37,
   "metadata": {},
   "outputs": [
    {
     "name": "stdout",
     "output_type": "stream",
     "text": [
      "상점정보 (서브웨이)\n",
      "유형: 패스트푸드\n",
      "주소: 성수역\n"
     ]
    }
   ],
   "source": [
    "subway.shop_type = '패스트푸드'\n",
    "subway.show_info()"
   ]
  },
  {
   "cell_type": "markdown",
   "metadata": {},
   "source": [
    "## 상속"
   ]
  },
  {
   "cell_type": "code",
   "execution_count": 1,
   "metadata": {},
   "outputs": [],
   "source": [
    "class Shop:\n",
    "    # 클래스 속성은 대문자로 쓰기도 한다. 인스턴스 속성과 구분이 쉽다.\n",
    "    # 대문자에는 인스턴스 속성은 추천하지 않는다.\n",
    "    SHOP_TYPE_LIST = ['샌드위치', '패스트푸드']\n",
    "    \n",
    "    def __init__(self, name, shop_type, address):\n",
    "        self.name = name\n",
    "        # self.__shop.type은 인스턴스의 속성명\n",
    "        # 우측의 shop.type은 초기화 메서드의 매개변수명\n",
    "        self._shop_type = shop_type\n",
    "        self.address = address\n",
    "        \n",
    "    def show_info(self):\n",
    "        \"\"\"\n",
    "        info프로퍼티 값을 출력\n",
    "        \"\"\"\n",
    "        print(self.info)\n",
    "        \n",
    "    # info 프로퍼티를 작성\n",
    "    # 내용은 show_info()함수가 보여주던 텍스트\n",
    "    \n",
    "    # show_info()함수가\n",
    "    # 인스턴스의 'info'프로퍼티의 값을 출력하도록 변경\n",
    "    \n",
    "    @property\n",
    "    def info(self):\n",
    "        \"\"\"\n",
    "        상점정보, 유형, 주소 정보 문자열\n",
    "        \"\"\"\n",
    "        return(\n",
    "            f'상점정보 ({self.name})\\n'\n",
    "            f'유형: {self._shop_type}\\n'\n",
    "            f'주소: {self.address}'\n",
    "        )\n",
    "        \n",
    "    # getter 역할을 하는 property decorator\n",
    "    @property\n",
    "    ## 프로퍼티는 특정 함수를 속성처럼 접근할 수 있게 해준다.\n",
    "    def shop_type(self):\n",
    "        return self._shop_type\n",
    "    \n",
    "    # setter역할을 하는 property decorator\n",
    "    # <getter property method name> setter\n",
    "    @shop_type.setter\n",
    "    def shop_type(self, new_shop_type):\n",
    "        if new_shop_type in self.SHOP_TYPE_LIST:\n",
    "            self._shop_type = new_shop_type\n",
    "        else:\n",
    "            print('상점 유형은 {}중 하나여야 합니다.'.format(\n",
    "                ','.join(self.SHOP_TYPE_LIST),\n",
    "            ))\n",
    "\n",
    "\n",
    "\n",
    "class Restaurant(Shop):\n",
    "#     def new_method(self):\n",
    "#         return '식당{}'.format(\n",
    "#             self.info[2:]\n",
    "#         )\n",
    "# 가운데 문자열을 수정하려면 replace를 쓰는게 더 효율적이다\n",
    "    @property\n",
    "    def info(self):\n",
    "        return '식당' + super().info[2:]"
   ]
  },
  {
   "cell_type": "code",
   "execution_count": 2,
   "metadata": {},
   "outputs": [
    {
     "name": "stdout",
     "output_type": "stream",
     "text": [
      "식당정보 (서브웨이)\n",
      "유형: 식당\n",
      "주소: 성수역\n"
     ]
    }
   ],
   "source": [
    "subway = Restaurant('서브웨이', '식당', '성수역')\n",
    "subway.show_info()"
   ]
  },
  {
   "cell_type": "code",
   "execution_count": 12,
   "metadata": {},
   "outputs": [],
   "source": [
    "class Restaurant(Shop):\n",
    "    def __init__(self, name, address, rating):\n",
    "        super().__init__(name = name, shop_type='식당', address = address)\n",
    "        self.rating = rating\n",
    "        \n",
    "    @property\n",
    "    def info(self):\n",
    "        return'식당' + super().info[2:] +'\\n평점:{}'.format(self.rating)\n",
    "        "
   ]
  },
  {
   "cell_type": "code",
   "execution_count": 13,
   "metadata": {},
   "outputs": [],
   "source": [
    "subway1 = Shop('서브웨이', '식당', '성수역')\n",
    "subway2 = Restaurant('서브웨이', '성수역', 10)"
   ]
  },
  {
   "cell_type": "code",
   "execution_count": 14,
   "metadata": {},
   "outputs": [
    {
     "name": "stdout",
     "output_type": "stream",
     "text": [
      "상점정보 (서브웨이)\n",
      "유형: 식당\n",
      "주소: 성수역\n"
     ]
    }
   ],
   "source": [
    "subway1.show_info()"
   ]
  },
  {
   "cell_type": "code",
   "execution_count": 15,
   "metadata": {},
   "outputs": [
    {
     "name": "stdout",
     "output_type": "stream",
     "text": [
      "식당정보 (서브웨이)\n",
      "유형: 식당\n",
      "주소: 성수역\n",
      "평점:10\n"
     ]
    }
   ],
   "source": [
    "subway2.show_info()"
   ]
  },
  {
   "cell_type": "code",
   "execution_count": null,
   "metadata": {},
   "outputs": [],
   "source": []
  }
 ],
 "metadata": {
  "kernelspec": {
   "display_name": "Python 3",
   "language": "python",
   "name": "python3"
  },
  "language_info": {
   "codemirror_mode": {
    "name": "ipython",
    "version": 3
   },
   "file_extension": ".py",
   "mimetype": "text/x-python",
   "name": "python",
   "nbconvert_exporter": "python",
   "pygments_lexer": "ipython3",
   "version": "3.6.5"
  }
 },
 "nbformat": 4,
 "nbformat_minor": 2
}
